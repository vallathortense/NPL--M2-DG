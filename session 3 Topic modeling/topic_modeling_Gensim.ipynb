{
 "cells": [
  {
   "cell_type": "markdown",
   "id": "94c29ca4",
   "metadata": {},
   "source": [
    "## Topic Modeling with Gensim"
   ]
  },
  {
   "cell_type": "code",
   "execution_count": null,
   "id": "c1647c1f",
   "metadata": {},
   "outputs": [],
   "source": [
    "Another library different from sklearn\n"
   ]
  },
  {
   "cell_type": "code",
   "execution_count": 1,
   "id": "0637a200",
   "metadata": {},
   "outputs": [],
   "source": [
    "import pandas as pd\n",
    "import numpy as np\n",
    "import seaborn as sns \n",
    "import matplotlib.pyplot as plt\n",
    "import regex as re"
   ]
  },
  {
   "cell_type": "code",
   "execution_count": 2,
   "id": "53f2a2d9",
   "metadata": {},
   "outputs": [
    {
     "name": "stdout",
     "output_type": "stream",
     "text": [
      "326\n",
      "327\n",
      "{\"'ve\", 'five', 'all', 'used', 'using', 'many', 'others', 'herself', 'hence', 'becoming', 'nine', 'anything', 'which', 'sometimes', 'seem', 'very', 'n’t', 'around', 'been', 'cannot', 'here', 'however', 'whereupon', 'whole', 'whom', 'not', 'latter', 'someone', 'whither', 'our', 'on', 'hereafter', 'whether', 'eight', 'up', 'call', 'so', 'out', 'latterly', '‘s', 'only', 'for', 'must', 'sometime', 'should', 'throughout', \"'d\", 'will', 'most', 'without', 'by', 'except', 'hereupon', 'front', 'what', 'would', 'the', 'until', 'anyway', 'alone', 'any', 'both', 'meanwhile', 'yourself', 'ca', 'anyhow', 'none', 'either', 'nobody', 'there', 'made', 'whoever', '‘ve', 'within', 'via', 'everywhere', 'to', 'regarding', 'done', 'empty', 'mine', 'besides', 'four', 'top', 'since', 'almost', 'because', 'beyond', 'perhaps', 'move', 'ten', 'two', 'nevertheless', '_NUMBER_', 'six', 'further', 'if', 'do', 'hundred', 'and', 'next', 'us', 'really', 'how', 'was', 'due', 'with', 'behind', 'fifty', 'your', 'she', 'moreover', 'go', 'every', 'enough', 'upon', 'indeed', 'thence', 'anyone', 'otherwise', 'we', 'n‘t', 'doing', 'never', 'one', 'part', 'other', '’m', \"n't\", 'him', 'see', 'whose', 'also', 'forty', 'full', 'twenty', 'hereby', 'those', 'several', 'nothing', 'less', 'across', '‘re', 'am', 'about', 'afterwards', 'onto', 'least', '‘m', 'does', 'unless', 'where', 'no', '’ll', 'before', 'still', 'well', 'be', 'a', 'some', 'third', 'take', 'nor', 'therefore', 'formerly', 'then', 'could', 'my', 'while', 'but', \"'s\", 'serious', 'something', 'or', 'himself', 'its', 'beforehand', 'above', 'thru', 'last', 'sixty', 'than', '’s', 'name', '‘d', 'give', 'ever', 'noone', 'his', \"'m\", 'same', 'put', 'make', 'can', 'namely', 'as', 'much', 'rather', 'myself', 'therein', 'fifteen', 'herein', 'elsewhere', 'now', 'nowhere', 'keep', \"'re\", 'against', 'once', 'please', 'have', 'beside', 'else', 'become', 'why', 'becomes', '’ve', 'an', 'itself', 'whereas', 'under', 'former', 'first', 'already', 'from', 'became', 'among', 'get', 'me', 'somewhere', 'over', 'he', 'always', 'more', 'quite', 'them', 'these', 'this', 'it', 'although', 'three', 'has', 'each', 'i', 'who', 'wherein', 'below', 'of', 'during', 'though', 'various', 'such', 'ours', 'ourselves', 'is', 'yours', 'at', 'that', 'whereby', 'are', 'say', 'somehow', 'were', 'mostly', 're', 'down', 'her', 'along', 'side', 'off', 'anywhere', 'they', 'toward', 'often', 'through', '’d', 'yet', 'just', 'seeming', 'after', 'into', 'amongst', 'back', 'thereafter', '’re', 'eleven', 'show', 'seems', 'another', 'everything', 'few', 'might', 'thereby', 'thus', 'bottom', 'whenever', 'being', \"'ll\", 'even', 'twelve', 'did', 'wherever', 'yourselves', 'own', 'had', 'thereupon', 'whence', 'in', 'when', 'you', 'hers', 'amount', 'whereafter', 'seemed', 'per', 'whatever', 'everyone', 'together', 'may', 'themselves', 'their', '‘ll', 'between', 'neither', 'towards', 'again', 'too'}\n",
      "<class 'set'>\n"
     ]
    }
   ],
   "source": [
    "import spacy \n",
    "import en_core_web_sm\n",
    "en = en_core_web_sm.load()\n",
    "\n",
    "# Import stopword from spaCy\n",
    "#import spacy \n",
    "\n",
    "# Import stopword from spaCy\n",
    "#import spacy \n",
    "#loading the english language small model of spacy\n",
    "\n",
    "stopwords_spa = en.Defaults.stop_words\n",
    "\n",
    "print(len(stopwords_spa))\n",
    "include_stopwords={'_NUMBER_'}\n",
    "stopwords_spa|= include_stopwords\n",
    "print(len(stopwords_spa))\n",
    "print(stopwords_spa)\n",
    "print(type(stopwords_spa))"
   ]
  },
  {
   "cell_type": "code",
   "execution_count": 3,
   "id": "46afa3ca",
   "metadata": {},
   "outputs": [],
   "source": [
    "file=\"un-general-debates.csv\"\n",
    "df=pd.read_csv(file)"
   ]
  },
  {
   "cell_type": "markdown",
   "id": "34f6c247",
   "metadata": {},
   "source": [
    "### Step 1\n",
    "We tokenize the texts (split) and exclude stopwords"
   ]
  },
  {
   "cell_type": "code",
   "execution_count": 4,
   "id": "470eb0c0",
   "metadata": {},
   "outputs": [],
   "source": [
    "gensim_text=[[w for w in re.findall(r'\\b\\w\\w+\\b',text.lower()) if w not in stopwords_spa ] for text in df['text']]"
   ]
  },
  {
   "cell_type": "markdown",
   "id": "fc7fec4b",
   "metadata": {},
   "source": [
    "### Step 2\n",
    "We construct a dictionary who defines the vocabulary of all words after tokenization. Each word receives a unique integer ID"
   ]
  },
  {
   "cell_type": "code",
   "execution_count": 5,
   "id": "4e213e60",
   "metadata": {},
   "outputs": [],
   "source": [
    "from gensim.corpora import Dictionary\n",
    "dict_gensim_text=Dictionary(gensim_text) # define the vocabulary of all words that the process know\n",
    "dict_gensim_text.filter_extremes(no_below=5,no_above=0.7)"
   ]
  },
  {
   "cell_type": "code",
   "execution_count": 6,
   "id": "8af8964f",
   "metadata": {},
   "outputs": [
    {
     "name": "stdout",
     "output_type": "stream",
     "text": [
      "Dictionary<24611 unique tokens: ['15', '1980s', '1987', '22', 'ability']...>\n"
     ]
    }
   ],
   "source": [
    "print(dict_gensim_text)"
   ]
  },
  {
   "cell_type": "markdown",
   "id": "5a5ce040",
   "metadata": {},
   "source": [
    "### Step 3\n",
    "We represent each document as a vector of features. We create a bag-of-word representation of a document with doc2bow. doc2bow returns a sparse representation of the word counts.\n",
    "For each token in a document and in the dictionary we obtain a vector (ID of the token, Number of occurences in the text)"
   ]
  },
  {
   "cell_type": "code",
   "execution_count": 7,
   "id": "8fad7dbe",
   "metadata": {},
   "outputs": [],
   "source": [
    "bow_gensim_text = [dict_gensim_text.doc2bow(text) for text in gensim_text]"
   ]
  },
  {
   "cell_type": "markdown",
   "id": "5afe4ea9",
   "metadata": {},
   "source": [
    "### Step 4\n",
    "Computation of tf-idf for the corpus of documents"
   ]
  },
  {
   "cell_type": "code",
   "execution_count": 8,
   "id": "85bce712",
   "metadata": {},
   "outputs": [],
   "source": [
    "from gensim.models import TfidfModel\n",
    "tfidf_gensim_text = TfidfModel(bow_gensim_text) # We initialize the tf_idf model\n",
    "vector_gensim_text = tfidf_gensim_text[bow_gensim_text] # We apply it to the "
   ]
  },
  {
   "cell_type": "markdown",
   "id": "029f2a88",
   "metadata": {},
   "source": [
    "## NMF with Gensim"
   ]
  },
  {
   "cell_type": "code",
   "execution_count": 24,
   "id": "023653b7",
   "metadata": {},
   "outputs": [],
   "source": [
    "from gensim.models.nmf import Nmf\n",
    "nmf_gensim_text = Nmf(vector_gensim_text,num_topics=10,id2word=dict_gensim_text,kappa=0.1,eval_every=5)"
   ]
  },
  {
   "cell_type": "code",
   "execution_count": 32,
   "id": "994e5712",
   "metadata": {},
   "outputs": [
    {
     "data": {
      "text/plain": [
       "[(0,\n",
       "  '0.001*\"co\" + 0.001*\"operation\" + 0.001*\"nuclear\" + 0.001*\"african\" + 0.001*\"africa\" + 0.001*\"arab\" + 0.001*\"south\" + 0.001*\"sustainable\" + 0.001*\"terrorism\" + 0.001*\"independence\"'),\n",
       " (1,\n",
       "  '0.001*\"co\" + 0.001*\"operation\" + 0.001*\"nuclear\" + 0.001*\"terrorism\" + 0.001*\"european\" + 0.001*\"peru\" + 0.001*\"disarmament\" + 0.001*\"europe\" + 0.001*\"korea\" + 0.001*\"south\"'),\n",
       " (2,\n",
       "  '0.001*\"nuclear\" + 0.001*\"arab\" + 0.001*\"co\" + 0.001*\"africa\" + 0.001*\"african\" + 0.001*\"iraq\" + 0.001*\"israel\" + 0.001*\"terrorism\" + 0.001*\"south\" + 0.001*\"japan\"'),\n",
       " (3,\n",
       "  '0.001*\"co\" + 0.001*\"nuclear\" + 0.001*\"operation\" + 0.001*\"guinea\" + 0.001*\"soviet\" + 0.001*\"arab\" + 0.001*\"africa\" + 0.001*\"african\" + 0.001*\"israel\" + 0.001*\"south\"'),\n",
       " (4,\n",
       "  '0.001*\"african\" + 0.001*\"africa\" + 0.001*\"co\" + 0.001*\"arab\" + 0.001*\"nuclear\" + 0.001*\"south\" + 0.001*\"operation\" + 0.001*\"namibia\" + 0.001*\"guinea\" + 0.001*\"food\"'),\n",
       " (5,\n",
       "  '0.001*\"co\" + 0.001*\"african\" + 0.001*\"africa\" + 0.001*\"nuclear\" + 0.001*\"operation\" + 0.001*\"south\" + 0.001*\"sustainable\" + 0.001*\"terrorism\" + 0.001*\"weapons\" + 0.001*\"disarmament\"'),\n",
       " (6,\n",
       "  '0.001*\"co\" + 0.001*\"operation\" + 0.001*\"africa\" + 0.001*\"south\" + 0.001*\"african\" + 0.001*\"bolivia\" + 0.001*\"europe\" + 0.001*\"nuclear\" + 0.001*\"disarmament\" + 0.001*\"namibia\"'),\n",
       " (7,\n",
       "  '0.001*\"co\" + 0.001*\"operation\" + 0.001*\"nuclear\" + 0.001*\"soviet\" + 0.001*\"africa\" + 0.001*\"african\" + 0.001*\"arab\" + 0.001*\"south\" + 0.001*\"delegation\" + 0.001*\"israel\"'),\n",
       " (8,\n",
       "  '0.001*\"co\" + 0.001*\"nuclear\" + 0.001*\"arab\" + 0.001*\"operation\" + 0.001*\"israel\" + 0.001*\"lebanon\" + 0.001*\"kuwait\" + 0.001*\"african\" + 0.001*\"africa\" + 0.001*\"south\"'),\n",
       " (9,\n",
       "  '0.002*\"co\" + 0.001*\"operation\" + 0.001*\"nuclear\" + 0.001*\"africa\" + 0.001*\"african\" + 0.001*\"arab\" + 0.001*\"namibia\" + 0.001*\"disarmament\" + 0.001*\"south\" + 0.001*\"soviet\"')]"
      ]
     },
     "execution_count": 32,
     "metadata": {},
     "output_type": "execute_result"
    }
   ],
   "source": [
    "nmf_gensim_text.show_topics()"
   ]
  },
  {
   "cell_type": "markdown",
   "id": "7857f6c0",
   "metadata": {},
   "source": [
    "### LDA with Gensim"
   ]
  },
  {
   "cell_type": "code",
   "execution_count": 43,
   "id": "b5ec5299",
   "metadata": {},
   "outputs": [],
   "source": [
    "from gensim.models import LdaModel\n",
    "lda_gensim_text = LdaModel(corpus=bow_gensim_text,id2word = dict_gensim_text,chunksize=2000, alpha='auto',eta='auto',iterations=400,num_topics=10,passes=20,eval_every=None, random_state=42)"
   ]
  },
  {
   "cell_type": "code",
   "execution_count": 44,
   "id": "62d517ca",
   "metadata": {},
   "outputs": [
    {
     "data": {
      "text/plain": [
       "[(0,\n",
       "  '0.013*\"arab\" + 0.013*\"israel\" + 0.009*\"palestinian\" + 0.008*\"iraq\" + 0.007*\"resolutions\" + 0.006*\"israeli\" + 0.006*\"lebanon\" + 0.006*\"middle\" + 0.004*\"palestine\" + 0.004*\"resolution\"'),\n",
       " (1,\n",
       "  '0.004*\"let\" + 0.004*\"freedom\" + 0.004*\"history\" + 0.003*\"life\" + 0.003*\"power\" + 0.003*\"democracy\" + 0.003*\"come\" + 0.003*\"want\" + 0.003*\"know\" + 0.003*\"justice\"'),\n",
       " (2,\n",
       "  '0.009*\"africa\" + 0.009*\"independence\" + 0.008*\"struggle\" + 0.007*\"south\" + 0.007*\"republic\" + 0.005*\"african\" + 0.005*\"regime\" + 0.005*\"aggression\" + 0.004*\"powers\" + 0.004*\"liberation\"'),\n",
       " (3,\n",
       "  '0.015*\"africa\" + 0.014*\"african\" + 0.007*\"republic\" + 0.004*\"democratic\" + 0.004*\"continent\" + 0.004*\"delegation\" + 0.004*\"conflicts\" + 0.003*\"debt\" + 0.003*\"dialogue\" + 0.003*\"parties\"'),\n",
       " (4,\n",
       "  '0.013*\"terrorism\" + 0.007*\"afghanistan\" + 0.005*\"challenges\" + 0.005*\"terrorist\" + 0.005*\"goals\" + 0.005*\"2015\" + 0.004*\"sustainable\" + 0.004*\"including\" + 0.003*\"women\" + 0.003*\"humanitarian\"'),\n",
       " (5,\n",
       "  '0.010*\"south\" + 0.007*\"africa\" + 0.006*\"co\" + 0.005*\"operation\" + 0.005*\"nuclear\" + 0.004*\"problem\" + 0.004*\"disarmament\" + 0.003*\"delegation\" + 0.003*\"negotiations\" + 0.003*\"developed\"'),\n",
       " (6,\n",
       "  '0.005*\"america\" + 0.005*\"latin\" + 0.005*\"american\" + 0.004*\"co\" + 0.004*\"relations\" + 0.004*\"central\" + 0.004*\"law\" + 0.004*\"operation\" + 0.003*\"possible\" + 0.003*\"solution\"'),\n",
       " (7,\n",
       "  '0.009*\"small\" + 0.008*\"change\" + 0.007*\"climate\" + 0.006*\"island\" + 0.005*\"pacific\" + 0.005*\"trade\" + 0.005*\"sustainable\" + 0.005*\"caribbean\" + 0.004*\"islands\" + 0.004*\"developed\"'),\n",
       " (8,\n",
       "  '0.009*\"cooperation\" + 0.005*\"reform\" + 0.005*\"regional\" + 0.004*\"nuclear\" + 0.004*\"european\" + 0.004*\"challenges\" + 0.004*\"weapons\" + 0.003*\"issues\" + 0.003*\"effective\" + 0.003*\"stability\"'),\n",
       " (9,\n",
       "  '0.014*\"nuclear\" + 0.010*\"republic\" + 0.010*\"soviet\" + 0.010*\"relations\" + 0.009*\"europe\" + 0.008*\"weapons\" + 0.007*\"disarmament\" + 0.007*\"co\" + 0.007*\"union\" + 0.007*\"operation\"')]"
      ]
     },
     "execution_count": 44,
     "metadata": {},
     "output_type": "execute_result"
    }
   ],
   "source": [
    "lda_gensim_text.show_topics()"
   ]
  },
  {
   "cell_type": "markdown",
   "id": "c00cb723",
   "metadata": {},
   "source": [
    "## Evaluation the coherence of a model"
   ]
  },
  {
   "cell_type": "code",
   "execution_count": null,
   "id": "a1416810",
   "metadata": {},
   "outputs": [],
   "source": [
    "from gensim.models.coherencemodel import CoherenceModel"
   ]
  },
  {
   "cell_type": "code",
   "execution_count": 46,
   "id": "e5309350",
   "metadata": {},
   "outputs": [
    {
     "name": "stdout",
     "output_type": "stream",
     "text": [
      "0.2835422934279378\n"
     ]
    }
   ],
   "source": [
    "nmf_gensim_text_coherence =CoherenceModel(model=nmf_gensim_text,texts=gensim_text,dictionary=dict_gensim_text,coherence='c_v')\n",
    "\n",
    "nmf_gensim_text_coherence_score = nmf_gensim_text_coherence.get_coherence()\n",
    "\n",
    "print(nmf_gensim_text_coherence_score)"
   ]
  },
  {
   "cell_type": "code",
   "execution_count": 45,
   "id": "59721cba",
   "metadata": {},
   "outputs": [
    {
     "name": "stdout",
     "output_type": "stream",
     "text": [
      "0.44897818248128407\n"
     ]
    }
   ],
   "source": [
    "lda_gensim_text_coherence =CoherenceModel(model=lda_gensim_text,texts=gensim_text,dictionary=dict_gensim_text,coherence='c_v')\n",
    "\n",
    "lda_gensim_text_coherence_score = lda_gensim_text_coherence.get_coherence()\n",
    "\n",
    "print(lda_gensim_text_coherence_score)"
   ]
  },
  {
   "cell_type": "markdown",
   "id": "e6fd11da",
   "metadata": {},
   "source": [
    "#### Coherence scores by topic"
   ]
  },
  {
   "cell_type": "code",
   "execution_count": 48,
   "id": "539964de",
   "metadata": {},
   "outputs": [
    {
     "name": "stdout",
     "output_type": "stream",
     "text": [
      "Average topic coherence: -0.6086.\n"
     ]
    }
   ],
   "source": [
    "top_topics = lda_gensim_text.top_topics(vector_gensim_text,topn=10)\n",
    "avg_topic_coherence = sum([t[1] for t in top_topics])/len(top_topics)\n",
    "print('Average topic coherence: %.4f.' % avg_topic_coherence)"
   ]
  },
  {
   "cell_type": "code",
   "execution_count": 51,
   "id": "59700d7a",
   "metadata": {},
   "outputs": [
    {
     "data": {
      "text/plain": [
       "[(-0.4115979389217101,\n",
       "  'south africa co operation nuclear problem disarmament delegation negotiations developed'),\n",
       " (-0.41383094076127036,\n",
       "  'america latin american co relations central law operation possible solution'),\n",
       " (-0.47055575080058387,\n",
       "  'cooperation reform regional nuclear european challenges weapons issues effective stability'),\n",
       " (-0.4974324650003483,\n",
       "  'arab israel palestinian iraq resolutions israeli lebanon middle palestine resolution'),\n",
       " (-0.5632931158604277,\n",
       "  'africa african republic democratic continent delegation conflicts debt dialogue parties'),\n",
       " (-0.5686596017264525,\n",
       "  'nuclear republic soviet relations europe weapons disarmament co union operation'),\n",
       " (-0.657694955171228,\n",
       "  'africa independence struggle south republic african regime aggression powers liberation'),\n",
       " (-0.6685828901749649,\n",
       "  'let freedom history life power democracy come want know justice'),\n",
       " (-0.8464734293353025,\n",
       "  'terrorism afghanistan challenges terrorist goals 2015 sustainable including women humanitarian'),\n",
       " (-0.988302629958004,\n",
       "  'small change climate island pacific trade sustainable caribbean islands developed')]"
      ]
     },
     "execution_count": 51,
     "metadata": {},
     "output_type": "execute_result"
    }
   ],
   "source": [
    "[(t[1],\" \".join([w[1] for w in t[0]])) for t in top_topics]"
   ]
  },
  {
   "cell_type": "markdown",
   "id": "9fc3a916",
   "metadata": {},
   "source": [
    "### Finding the optimal number of topics"
   ]
  },
  {
   "cell_type": "code",
   "execution_count": 11,
   "id": "f2e6c067",
   "metadata": {},
   "outputs": [],
   "source": [
    "from tqdm import tqdm # in loop, takes member and iterate over them"
   ]
  },
  {
   "cell_type": "code",
   "execution_count": 12,
   "id": "e5df1100",
   "metadata": {},
   "outputs": [],
   "source": [
    "from gensim.models.coherencemodel import CoherenceModel"
   ]
  },
  {
   "cell_type": "code",
   "execution_count": 14,
   "id": "b72d506f",
   "metadata": {},
   "outputs": [
    {
     "name": "stderr",
     "output_type": "stream",
     "text": [
      "100%|███████████████████████████████████████████████████████████████████████████████| 15/15 [1:48:14<00:00, 432.98s/it]\n"
     ]
    }
   ],
   "source": [
    "from gensim.models.ldamulticore import LdaMulticore\n",
    "lda_model_n=[]\n",
    "for n in tqdm(range(5,20)):\n",
    "    lda_model = LdaMulticore(corpus=bow_gensim_text,id2word=dict_gensim_text,chunksize=2000,eta='auto',iterations=400,\n",
    "                             num_topics=n,passes=20,eval_every=None,random_state=42)\n",
    "    lda_coherence = CoherenceModel(model=lda_model, texts=gensim_text,dictionary=dict_gensim_text,coherence='c_v')\n",
    "    lda_model_n.append((n,lda_model,lda_coherence.get_coherence()))"
   ]
  },
  {
   "cell_type": "code",
   "execution_count": 16,
   "id": "25e67142",
   "metadata": {},
   "outputs": [
    {
     "data": {
      "text/plain": [
       "<Axes: xlabel='n'>"
      ]
     },
     "execution_count": 16,
     "metadata": {},
     "output_type": "execute_result"
    },
    {
     "data": {
      "image/png": "[encoded data removed]",
      "text/plain": [
       "<Figure size 640x480 with 1 Axes>"
      ]
     },
     "metadata": {},
     "output_type": "display_data"
    }
   ],
   "source": [
    "pd.DataFrame(lda_model_n, columns=[\"n\",\"model\",\"coherence\"]).set_index(\"n\")[[\"coherence\"]].plot()"
   ]
  },
  {
   "cell_type": "code",
   "execution_count": null,
   "id": "e51f0a98",
   "metadata": {},
   "outputs": [],
   "source": []
  }
 ],
 "metadata": {
  "kernelspec": {
   "display_name": "Python 3 (ipykernel)",
   "language": "python",
   "name": "python3"
  },
  "language_info": {
   "codemirror_mode": {
    "name": "ipython",
    "version": 3
   },
   "file_extension": ".py",
   "mimetype": "text/x-python",
   "name": "python",
   "nbconvert_exporter": "python",
   "pygments_lexer": "ipython3",
   "version": "3.11.5"
  }
 },
 "nbformat": 4,
 "nbformat_minor": 5
}

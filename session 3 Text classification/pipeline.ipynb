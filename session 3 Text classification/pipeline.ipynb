{
 "cells": [
  {
   "cell_type": "code",
   "execution_count": 1,
   "id": "9d9d8afb",
   "metadata": {},
   "outputs": [],
   "source": [
    "import pandas as pd\n",
    "import numpy as np\n",
    "import matplotlib.pyplot as plt"
   ]
  },
  {
   "cell_type": "code",
   "execution_count": 2,
   "id": "1da0d4c3",
   "metadata": {},
   "outputs": [],
   "source": [
    "df = pd.read_csv('eclipse_jdt.csv')\n",
    "df=df[['Title','Description','Priority']]\n",
    "df=df.dropna()\n",
    "df['text']= df['Title']+''+df['Description']\n",
    "df=df.drop(columns=['Title','Description'])"
   ]
  },
  {
   "cell_type": "code",
   "execution_count": 3,
   "id": "6a46f972",
   "metadata": {},
   "outputs": [],
   "source": [
    "import textacy\n",
    "import textacy.preprocessing as tprep\n",
    "\n",
    "preproc = tprep.make_pipeline(\n",
    "    tprep.replace.urls,\n",
    "    tprep.remove.html_tags,\n",
    "    tprep.normalize.hyphenated_words,\n",
    "    tprep.normalize.quotation_marks,\n",
    "    tprep.normalize.unicode,\n",
    "    tprep.remove.accents,\n",
    "    tprep.remove.punctuation,\n",
    "    tprep.normalize.whitespace,\n",
    "    tprep.replace.numbers\n",
    ")"
   ]
  },
  {
   "cell_type": "code",
   "execution_count": 4,
   "id": "dcbf4de3",
   "metadata": {},
   "outputs": [],
   "source": [
    "df['text']=df['text'].apply(preproc)\n",
    "df=df[df['text'].str.len()>50]"
   ]
  },
  {
   "cell_type": "code",
   "execution_count": 5,
   "id": "dc7d1bc9",
   "metadata": {},
   "outputs": [],
   "source": [
    "from sklearn.model_selection import train_test_split\n",
    "X_train, X_test, Y_train, Y_test = train_test_split(df['text'],df['Priority'], test_size=0.2,random_state=42,stratify=df['Priority'])"
   ]
  },
  {
   "cell_type": "markdown",
   "id": "0c607710",
   "metadata": {},
   "source": [
    "### SVC Models"
   ]
  },
  {
   "cell_type": "code",
   "execution_count": 12,
   "id": "93347fcd",
   "metadata": {},
   "outputs": [
    {
     "data": {
      "text/html": [
       "<style>#sk-container-id-1 {color: black;background-color: white;}#sk-container-id-1 pre{padding: 0;}#sk-container-id-1 div.sk-toggleable {background-color: white;}#sk-container-id-1 label.sk-toggleable__label {cursor: pointer;display: block;width: 100%;margin-bottom: 0;padding: 0.3em;box-sizing: border-box;text-align: center;}#sk-container-id-1 label.sk-toggleable__label-arrow:before {content: \"▸\";float: left;margin-right: 0.25em;color: #696969;}#sk-container-id-1 label.sk-toggleable__label-arrow:hover:before {color: black;}#sk-container-id-1 div.sk-estimator:hover label.sk-toggleable__label-arrow:before {color: black;}#sk-container-id-1 div.sk-toggleable__content {max-height: 0;max-width: 0;overflow: hidden;text-align: left;background-color: #f0f8ff;}#sk-container-id-1 div.sk-toggleable__content pre {margin: 0.2em;color: black;border-radius: 0.25em;background-color: #f0f8ff;}#sk-container-id-1 input.sk-toggleable__control:checked~div.sk-toggleable__content {max-height: 200px;max-width: 100%;overflow: auto;}#sk-container-id-1 input.sk-toggleable__control:checked~label.sk-toggleable__label-arrow:before {content: \"▾\";}#sk-container-id-1 div.sk-estimator input.sk-toggleable__control:checked~label.sk-toggleable__label {background-color: #d4ebff;}#sk-container-id-1 div.sk-label input.sk-toggleable__control:checked~label.sk-toggleable__label {background-color: #d4ebff;}#sk-container-id-1 input.sk-hidden--visually {border: 0;clip: rect(1px 1px 1px 1px);clip: rect(1px, 1px, 1px, 1px);height: 1px;margin: -1px;overflow: hidden;padding: 0;position: absolute;width: 1px;}#sk-container-id-1 div.sk-estimator {font-family: monospace;background-color: #f0f8ff;border: 1px dotted black;border-radius: 0.25em;box-sizing: border-box;margin-bottom: 0.5em;}#sk-container-id-1 div.sk-estimator:hover {background-color: #d4ebff;}#sk-container-id-1 div.sk-parallel-item::after {content: \"\";width: 100%;border-bottom: 1px solid gray;flex-grow: 1;}#sk-container-id-1 div.sk-label:hover label.sk-toggleable__label {background-color: #d4ebff;}#sk-container-id-1 div.sk-serial::before {content: \"\";position: absolute;border-left: 1px solid gray;box-sizing: border-box;top: 0;bottom: 0;left: 50%;z-index: 0;}#sk-container-id-1 div.sk-serial {display: flex;flex-direction: column;align-items: center;background-color: white;padding-right: 0.2em;padding-left: 0.2em;position: relative;}#sk-container-id-1 div.sk-item {position: relative;z-index: 1;}#sk-container-id-1 div.sk-parallel {display: flex;align-items: stretch;justify-content: center;background-color: white;position: relative;}#sk-container-id-1 div.sk-item::before, #sk-container-id-1 div.sk-parallel-item::before {content: \"\";position: absolute;border-left: 1px solid gray;box-sizing: border-box;top: 0;bottom: 0;left: 50%;z-index: -1;}#sk-container-id-1 div.sk-parallel-item {display: flex;flex-direction: column;z-index: 1;position: relative;background-color: white;}#sk-container-id-1 div.sk-parallel-item:first-child::after {align-self: flex-end;width: 50%;}#sk-container-id-1 div.sk-parallel-item:last-child::after {align-self: flex-start;width: 50%;}#sk-container-id-1 div.sk-parallel-item:only-child::after {width: 0;}#sk-container-id-1 div.sk-dashed-wrapped {border: 1px dashed gray;margin: 0 0.4em 0.5em 0.4em;box-sizing: border-box;padding-bottom: 0.4em;background-color: white;}#sk-container-id-1 div.sk-label label {font-family: monospace;font-weight: bold;display: inline-block;line-height: 1.2em;}#sk-container-id-1 div.sk-label-container {text-align: center;}#sk-container-id-1 div.sk-container {/* jupyter's `normalize.less` sets `[hidden] { display: none; }` but bootstrap.min.css set `[hidden] { display: none !important; }` so we also need the `!important` here to be able to override the default hidden behavior on the sphinx rendered scikit-learn.org. See: https://github.com/scikit-learn/scikit-learn/issues/21755 */display: inline-block !important;position: relative;}#sk-container-id-1 div.sk-text-repr-fallback {display: none;}</style><div id=\"sk-container-id-1\" class=\"sk-top-container\"><div class=\"sk-text-repr-fallback\"><pre>LinearSVC(random_state=0, tol=1e-05)</pre><b>In a Jupyter environment, please rerun this cell to show the HTML representation or trust the notebook. <br />On GitHub, the HTML representation is unable to render, please try loading this page with nbviewer.org.</b></div><div class=\"sk-container\" hidden><div class=\"sk-item\"><div class=\"sk-estimator sk-toggleable\"><input class=\"sk-toggleable__control sk-hidden--visually\" id=\"sk-estimator-id-1\" type=\"checkbox\" checked><label for=\"sk-estimator-id-1\" class=\"sk-toggleable__label sk-toggleable__label-arrow\">LinearSVC</label><div class=\"sk-toggleable__content\"><pre>LinearSVC(random_state=0, tol=1e-05)</pre></div></div></div></div></div>"
      ],
      "text/plain": [
       "LinearSVC(random_state=0, tol=1e-05)"
      ]
     },
     "execution_count": 12,
     "metadata": {},
     "output_type": "execute_result"
    }
   ],
   "source": [
    "from sklearn.svm import LinearSVC\n",
    "model1 = LinearSVC(random_state=0,tol=1e-5)\n",
    "model1.fit(X_train_tf,Y_train)"
   ]
  },
  {
   "cell_type": "code",
   "execution_count": 14,
   "id": "6c188c3f",
   "metadata": {},
   "outputs": [],
   "source": [
    "Y_pred = model1.predict(X_test_tf)"
   ]
  },
  {
   "cell_type": "code",
   "execution_count": 13,
   "id": "d34ce505",
   "metadata": {},
   "outputs": [
    {
     "name": "stdout",
     "output_type": "stream",
     "text": [
      "Accuracy score 0.8778998778998779\n"
     ]
    }
   ],
   "source": [
    "from sklearn.metrics import accuracy_score\n",
    "print('Accuracy score', accuracy_score(Y_test, Y_pred))"
   ]
  },
  {
   "cell_type": "code",
   "execution_count": 11,
   "id": "08141bc7",
   "metadata": {},
   "outputs": [
    {
     "name": "stdout",
     "output_type": "stream",
     "text": [
      "              precision    recall  f1-score   support\n",
      "\n",
      "          P1       0.57      0.05      0.10       224\n",
      "          P2       0.35      0.03      0.06       608\n",
      "          P3       0.88      0.99      0.94      7899\n",
      "          P4       0.51      0.15      0.24       228\n",
      "          P5       0.00      0.00      0.00        50\n",
      "\n",
      "    accuracy                           0.88      9009\n",
      "   macro avg       0.46      0.25      0.27      9009\n",
      "weighted avg       0.83      0.88      0.83      9009\n",
      "\n"
     ]
    }
   ],
   "source": [
    "from sklearn.metrics import classification_report\n",
    "print(classification_report(Y_test,Y_pred,zero_division=0.0))"
   ]
  },
  {
   "cell_type": "code",
   "execution_count": null,
   "id": "f522164a",
   "metadata": {},
   "outputs": [],
   "source": [
    "from imblearn.metrics import classification_report_imbalanced\n",
    "print(classification_report_imbalanced(Y_test,Y_pred,zero_division=0))"
   ]
  },
  {
   "cell_type": "markdown",
   "id": "e3416ff9",
   "metadata": {},
   "source": [
    "## Pipeline : CountVectorizer+TfidfVectorizer+LinearSVC"
   ]
  },
  {
   "cell_type": "code",
   "execution_count": null,
   "id": "471639d6",
   "metadata": {},
   "outputs": [],
   "source": [
    "from sklearn.svm import LinearSVC\n",
    "from sklearn.feature_extraction.text import CountVectorizer\n",
    "from sklearn.feature_extraction.text import TfidfVectorizer\n",
    "from sklearn.pipeline import Pipeline\n",
    "\n",
    "clf_text = Pipeline([\n",
    "    ('vect', CountVectorizer(min_df=10,ngram_range=(1,2),stop_words='english')),\n",
    "    ('tfidf', TfidfTransformer(use_idf=True)),\n",
    "    ('svc',LinearSVC(random_state=0,tol=1e-5,dual='auto'))\n",
    "])\n",
    "clf_text.named_steps"
   ]
  },
  {
   "cell_type": "code",
   "execution_count": null,
   "id": "72eaef32",
   "metadata": {},
   "outputs": [],
   "source": [
    "clf_text.fit(X_train,Y_train)"
   ]
  },
  {
   "cell_type": "code",
   "execution_count": null,
   "id": "3430200b",
   "metadata": {},
   "outputs": [],
   "source": [
    "Y_pred=clf_text.predict(X_test)"
   ]
  },
  {
   "cell_type": "code",
   "execution_count": null,
   "id": "5ef1752c",
   "metadata": {},
   "outputs": [],
   "source": [
    "from sklearn.metrics import accuracy_score\n",
    "print('Accuracy score', accuracy_score(Y_test, Y_pred))"
   ]
  },
  {
   "cell_type": "code",
   "execution_count": null,
   "id": "bcac48f3",
   "metadata": {},
   "outputs": [],
   "source": [
    "clf_text.fit(X_train,Y_train).score(Y_test,Y_pred)"
   ]
  },
  {
   "cell_type": "markdown",
   "id": "e393be80",
   "metadata": {},
   "source": [
    "## Pipeline : TfidfVectorizer+LinearSVC"
   ]
  },
  {
   "cell_type": "code",
   "execution_count": null,
   "id": "4b6b224f",
   "metadata": {},
   "outputs": [],
   "source": [
    "from sklearn.svm import LinearSVC\n",
    "from sklearn.feature_extraction.text import TfidfVectorizer\n",
    "from sklearn.pipeline import Pipeline\n",
    "\n",
    "clf_text = Pipeline([\n",
    "    ('tfidf', TfidfVectorizer(use_idf=True,min_df=5,ngram_range=(1,2),stop_words='english')),\n",
    "    ('svc',LinearSVC(random_state=0,tol=1e-5,dual='auto'))\n",
    "])\n",
    "clf_text"
   ]
  },
  {
   "cell_type": "code",
   "execution_count": null,
   "id": "e2f4c5e0",
   "metadata": {},
   "outputs": [],
   "source": [
    "clf_text.fit(X_train,Y_train)\n",
    "Y_pred=clf_text.predict(X_test)\n",
    "from sklearn.metrics import accuracy_score\n",
    "print('Accuracy score', accuracy_score(Y_test, Y_pred))\n"
   ]
  },
  {
   "cell_type": "code",
   "execution_count": null,
   "id": "f093e503",
   "metadata": {},
   "outputs": [],
   "source": [
    "from sklearn.metrics import classification_report\n",
    "print(classification_report(Y_test,Y_pred,zero_division=0.0))"
   ]
  },
  {
   "cell_type": "code",
   "execution_count": null,
   "id": "a5ce0a44",
   "metadata": {},
   "outputs": [],
   "source": [
    "clf_text.fit(X_train,Y_train).score(Y_test,Y_pred)"
   ]
  },
  {
   "cell_type": "code",
   "execution_count": null,
   "id": "b31a28ec",
   "metadata": {},
   "outputs": [],
   "source": [
    "count_vect"
   ]
  }
 ],
 "metadata": {
  "kernelspec": {
   "display_name": "Python 3 (ipykernel)",
   "language": "python",
   "name": "python3"
  },
  "language_info": {
   "codemirror_mode": {
    "name": "ipython",
    "version": 3
   },
   "file_extension": ".py",
   "mimetype": "text/x-python",
   "name": "python",
   "nbconvert_exporter": "python",
   "pygments_lexer": "ipython3",
   "version": "3.11.5"
  }
 },
 "nbformat": 4,
 "nbformat_minor": 5
}

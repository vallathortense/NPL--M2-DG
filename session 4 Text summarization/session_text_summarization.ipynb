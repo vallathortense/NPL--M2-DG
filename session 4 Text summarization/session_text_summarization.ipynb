{
 "cells": [
  {
   "cell_type": "markdown",
   "id": "b7a5e259",
   "metadata": {},
   "source": [
    "# Text summarization"
   ]
  },
  {
   "cell_type": "code",
   "execution_count": 1,
   "id": "5171150b",
   "metadata": {},
   "outputs": [],
   "source": [
    "import pandas as pd\n",
    "import numpy as np\n",
    "import matplotlib.pyplot as plt"
   ]
  },
  {
   "cell_type": "code",
   "execution_count": 2,
   "id": "559a44ab",
   "metadata": {},
   "outputs": [],
   "source": [
    "df=pd.read_csv('C:/users/ylepen/OneDrive - Université Paris-Dauphine/COURS Dauphine/NLP/topic modeling/un-general-debates.csv')"
   ]
  },
  {
   "cell_type": "code",
   "execution_count": null,
   "id": "586f5d29",
   "metadata": {},
   "outputs": [],
   "source": [
    "df.head()"
   ]
  },
  {
   "cell_type": "code",
   "execution_count": 3,
   "id": "92741cdb",
   "metadata": {},
   "outputs": [],
   "source": [
    "text = df.loc[0,'text']"
   ]
  },
  {
   "cell_type": "code",
   "execution_count": 7,
   "id": "b0a1d035",
   "metadata": {},
   "outputs": [
    {
     "name": "stdout",
     "output_type": "stream",
     "text": [
      "﻿It is indeed a pleasure for me and the members of my delegation to extend to Ambassador Garba our sincere congratulations on his election to the presidency of the forty-fourth session of the General Assembly. His election to this high office is a well-deserved tribute to his personal qualities and experience. I am fully confident that under his able and wise leadership the Assembly will further consolidate the gains achieved during the past year.\n",
      "My delegation associates itself with previous speakers in expressing its appreciation of the dedicated efforts of his predecessor, His Excellency Mr. Dante Caputo, for the exemplary manner in which he discharged his duties as President of the forty-third session of the General Assembly.\n",
      "As in previous years, my delegation wishes to note its satisfaction with and gratitude for the assiduous and unrelenting efforts exerted by the Secretary-General of the United Nations in the cause of peace and international harmony. We pay a tribute to him for his untiring efforts to promote conditions conducive to the realization of the noble principles enshrined in the Charter of the United Nations, we praise and congratulate him on the successes the Organization has achieved in recent years. More particularly we praise him for the renewed faith and regeneration of confidence in the Organization and its ability to Play an instrumental role in the peaceful settlement of disputes.  \n",
      "Today we find ourselves at an important crossroads. Recent years have witnessed a welcome positive change in the international political climate. The confrontational tone evident in super-Power relations not too long ago continues to show signs of thawing. At the same time,, a number of regional and sub regional conflicts have taken momentous strides towards resolution. Many more protracted conflicts show signs of hope and movement. Though one might argue that the present situation continues to be delicate, the process made can hardly escape notice and is indeed worthy of recognition. \n",
      "Developments in southern Africa, and more particularly in Namibia with regard to the implementation of the United Nations independence plan, are welcome signals of hope, but amidst the hopes there are still dark reminders of the precariousness of global political reconciliation. A number of problems remain unsolved and several of these, such as the conflicts in the Middle East, continue to simmer.\n",
      "We are therefore at an important crossroads. We feel that there is enough good will to set in motion the process of evolution towards peace and stability. We see signs that the human intellect is resourceful enough to devise ideas that are conducive to our survival. Fresh concepts of peace and security have gained currency, but at the same time we continue to live under the dark shadow of nuclear devices. The proliferation of nuclear weapons, both horizontally and vertically, is a tragic reminder of the difficulties and obstacles which stand between mankind and lasting peace.\n",
      "On the economic front hard choices need to be made. The 1980s have witnessed one of the longest spells of growth for the industrialized countries, while the situation in the South, particularly in the least developed countries, continues to deteriorate. Benefits of trade continue to be disproportionate. Commodity prices have not regained their value in real terms. Aid flows continue to be inadequate. The debt burden borne by many third world countries is stifling economic growth and efforts for development, causing political instability. The link between economic development and the environment has recently been recognized and it is encouraging to note the high profile given to environmental issues at the Paris summit meeting of the Group of Seven in July this year, in this regard, it is of particular interest that there is an increasing awareness and acceptance of the fact that certain technologies have a deleterious effect on the environment. The question is how these technologies can be replaced through a global programme of co-operation.\n",
      "No single fact, no single object, defines our moment in civilization more than does the existence of large nuclear arsenals. we have the horrible capacity to destroy our planet several times other, either by accident or by design. Nuclear weapons instil fear and beget mistrust and insecurity. They have a remarkable tendency to set hostile relations in concrete. They aggravate the security dilemma of states and perpetuate a confliction mode of behaviour. This, therefore, fuels the arms race and defence budgets soar while expenditures that are benevolent tend to plummet. \n",
      "The UN Conference on the relationship between disarmament and development served as a timely reminder of the opportunity costs of armaments, both nuclear and conventional. However the opportunity cost of nuclear weaponry is not only development. The international political climate and the security perceptions of states, as well as the environment, are actual and potential sacrifices to\n",
      "nuclear weapons. Furthermore. the potential horizontal proliferation of nuclear weapons issues the stark and grim warning that regional rivalries would be on an ever shorter fuse and that cataclysm would be that much closer.\n",
      "It is in view of these strong objections  to nuclear weapons and their Proliferation and deployment that my delegation has consistently and strongly supported United Nations calls for disarmament.\n",
      "The confidence that can he derived from genuine arms reduction has a pervasive effect on the security environment. The transition that many of the world's conflict, are making towards negotiations and understanding owes a great deal to improved relations between the super-Powers, which were themselves in part inspired by the historic arms reduction agreement of December 1987 for this reason -at Maldives has always supported all efforts with a view to general and complete disarmament, including the total elimination of chemical and bacteriological weapons and reduction in conventional armaments. We also believe that nuclear-weapon-free zones and zones of peace could inspire trust, good Will and operation among states, transforming into secure communities contributing to global peace and security. We therefore support calls for the establishment of nuclear-weapon-free zones and zones of peace. \n",
      "I express my delegation's fullest support for the people of Namibia, with our Namibia achieved their independence.  Apartheid is an affront to mankind and a crime against humanity. No amount of tinkering with it can placate the sense of outrage and indignation felt by the world community for this immoral practice. No amount of cosmetic change can restore Justice and dignity to the oppressed majority in South Africa. Maldives express our solidarity with the oppressed majority in South Africa in their struggle against apartheid. We condemn unequivocally the system of apartheid and condemn Pretoria regime for its continued defiance of the UN resolutions.  \n",
      "By far the greatest conflict in our time has been and continues to be the conflict in the Middle East. At the heart of this conflict is the question of Palestine. However, it is only in recent years that the Palestinian issue has evoked even a reasoned amount of concern in some key States. The search for peace continues to be frustrated by the hard-line and obstinate policies of Israel. Meanwhile, the situation in the occupied territories continues to deteriorate. The 22 month long intifadah emphasizes the intensity of the situation posed by Zionist occupation of Palestine and other Arab territories, including Jerusalem.\n",
      "The Government of Maldives strongly condemns the use of brutal force and the blatant abuse of human rights by Israel against the Palestinian people in the occupied territories. We also deplore the continued defiance by Israel of United Nations resolutions and its violation of international law and all norms of civilized behaviour. We reiterate our full support and solidarity with the people of Palestine in their just struggle for self-determination and independence. We therefore welcome the overwhelming international support for the uprising, which is being viewed as the just and valiant struggle of the Palestinian people for the restoration of their inalienable rights. We extend our whole-hearted support to the proposal for an early convening of an international conference on the Middle East with the full and independent participation of Palestine.\n",
      "The situation in Lebanon remains volatile. The civil war, now in its fifteenth year, continues to take an increasing toll of human life. We fervently hope that, with the developments taking place in the region and elsewhere, the question of Lebanon will be solved in a manner which will restore its independence and national integrity, and alleviate the sufferings of its people. We welcome the efforts undertaken by the members of the Arab league, both past and present, to resolve the situation in Lebanon and we request the international community to give their support to the people of Lebanon in their efforts to solve their problems.\n",
      "On a more hopeful note, we are pleased that, contrary to some early pessimistic assessments, the cease-fire agreed on between Iran and Iraq in the Gulf has held firm, indicating the sincerity of the parties to the conflict. We welcome the commitments undertaken by them to resolve the conflict by peaceful means. In particular, we applaud the efforts of the United Nations Secretary-General for the resolution of this conflict and urge both parties to maintain the momentum of peace created and envisaged by the cease-fire. \n",
      "While we welcome the positive developments in Afghanistan - I refer to the withdraw of foreign troops - we regret that the situation has not been completely settled. We reiterate our call upon all parties concerned to adhere to the provisions of the Geneva Agreements in order not to frustrate the prevailing opportunities for a just and lasting solution to the problem. We urge the international community to provide humanitarian and economic assistance for the relief and rehabilitation of refugees, as well as for the long-term reconstruction of that ravaged country.  \n",
      "Positive strides have been taken towards the solution of the Kampuchean problem. We welcome the withdraw of the Vietnamese troops and we appreciate the diplomatic efforts to obtain a comprehensive and lasting solution to the dispute including the Jakarta informal meeting as well as the international conference in Paris. However, realizing the delicacy of the current situation, we call upon all parties concerned to exercise restraint. \n",
      "The process of reunification of peoples should be through peaceful means and by the creation of conditions conducive to reconciliation, peace and stability among those sharing the same aspirations. We remain optimistic about the prospects for peaceful national reconciliation in the Korean peninsula. The good office of the UN could be utilized in these peace negotiations.  \n",
      "Another issue that needs our attention is the situation in Cyprus. That prolonged inter-communal dispute should be solved urgently, with due regard to the national integrity of the nation and the aspirations of its peoples. We welcome the recent high-level contacts between the two communities and hope that the revived inter-communal dialogue will lead to inter-communal reconciliation on the basis of equality and integrity for both communities. We commend the tireless and sincere efforts of the Secretary-General in searching for a settlement to the conflict.\n",
      "As I have already noted, the world economic situation continues to be bleak for the developing countries. Their situation has been worsened by the limited of aid since the early 1980s, rampant domestic inflation, crippling debts and the exorbitant burden of debt-servicing. The situation is aggravated by their falling share in international trade, by persistent negative trends in the terms of trade, owing to protectionism, and by the upsurge in unilateralism and other practices that jeopardize the multilateral nature of trade. It is regrettable that, on the whole, despite recent measures whereby the resources of the international finance institutions have been increased by the plans of some of the most developed countries to recycle part of their surplus into the developing countries, the internationally agreed target of 0.7 per cent of gross national product (GNP) as official development assistance has not been met. Moreover, as regards the least developed countries, which continue to register negative growth rates, the official development assistance target of 0.15 per cent of GNP has not been met either.\n",
      "Economic insecurity is not the only visible threat facing many of us in the world today. Indeed, we consider the environment to be one of the most important aspects of the quality of life that we have to address now in our quest for economic and industrial development. We welcome the proposed United Nations conference on environment and development and regard the event as a valuable opportunity which should be fully utilized to promote a comprehensive approach to the environmental problems related to the development activities of mankind.\n",
      "While serious efforts are being made at global, regional and national levels to protect the environment, my delegation is particularly concerned about the effects of the degradation of the environment, especially the depletion of the ozone layer and the consequent global warming and rise in sea level. Maldives is a low-lying archipelagic State, entirely dependent upon its surrounding seas. Any degradation of the marine ecosystem, or any rise in the mean sea level, is a matter of grave concern to the Maldives, it will be recalled that two years ago we witnessed the fury of tidal eruptions, which caused extensive damage, with the assistance of friendly countries, we have embarked upon a programme of protecting the populated islands from possible natural calamities. Tidal waves, hurricanes and typhoons are increasingly frequent phenomena, and today there is a greater awareness that man's tampering with the environment and certain technologies inimical to the environment do have a direct bearing on the behaviour of the global weather system.\n",
      "Maldives therefore strongly supports the call for environmental preservation and is already a party to the Vienna Convention for the Protection of the Ozone Layer and the Montreal Protocol on Substances that Deplete the Ozone Layer. Our interest in the issue continues undiminished, and we welcome the universal interest that has been expressed in the preservation of the environment. I should like also to mention that in November this year the Maldives will host a conference of small States on sea-level rise. We are confident that the conference will contribute to the global efforts in addressing this important issue.\n",
      "It is an old and true maxim that the best indicator of the strength and stability of an international security system or political order is the survival of its weakest members. That being the case, and in view of the implications, the ever-increasing dangers of terrorism and mercenarism to the sovereignty of small and weak States are appalling.\n",
      "Terrorism is not simply a minor irritant to anybody - least of all, to the small nations whose sovereignty is not only held hostage but can be easily usurped. The very existence of this possibility in the first place does not augur well for the security of the international community. The cherished principles that have so long contributed to the survival of the present State system and that are indispensable values of our global civilization are at stake. Today it may be we, the small States, whose sovereignty can be robbed by a handful of mercenaries or a gang of bounty hunters. Tomorrow it could be the larger countries, which, even at present, face some erosion of their sovereignty and security by similar acts. The difference is that when a small State is subjected to a terrorist onslaught or an invasion by mercenaries the consequences can be irreversible, both in political and in economic terms. We in the Maldives were close to becoming the victim of such a dastardly attempt last November.\n",
      "It is evident that peoples engaging in acts of terrorism and mercenarism, which endanger the sovereignty and territorial integrity of States, need to be deterred. The security of small States is too weak to be taken care of by mere self-help. The implications that efforts to strengthen their own security have for the prospects of economic development through the severe, if at all affordable, opportunity costs and the impact on social and political values, as well as the long-term implications for the sustenance of democracy in a militarised society, are negative. By requesting the inclusion on the agenda of the Assembly of an item related to the protection and security of small States, we sought to highlight the issue that I have just mentioned. We brought the issue to this forum not because we are unwilling to defend our values, nor have we taken it up here because our peoples lack valour. \n",
      "Small States do have as friends States that can assist, and have assisted, in strengthening their security. While we are grateful for the sense of duty that these friends have shown, it is with regret that we note that bilateral security arrangements in the international system have not yet evolved to a level of maturity whereby the interests of the weaker partner can be safeguarded. Nor are the socio-political identity of the weaker State and the principle of sovereign equality strong enough to be impervious to the possible vicissitudes of unequal relationships. Moreover, our political systems continue to be afflicted by misconceptions which can distort actions taken with the best of intentions. Consequently, the greater the power differential, the greater the propensity to misconceptions and the more hapless the predicament of the weaker parties. It is for this reason that we believe that multilateral frameworks are the most feasible nodes of a sound security mechanism for the weakest Members of the Organization, even if the actual support or assistance in a given situation is rendered at a regional or bilateral level.\n",
      "As I noted earlier, it is my humble opinion that we are at a pivotal point, an important crossroads in our global political development. It is our belief that we are at a particularly auspicious moment in history to forge ahead in strengthening the norms of our global political and security systems. Thus it is our sincere hope that the Organization will take a similar momentous step, a leap forward in ushering in a new era of security for the small States. We trust that this critical step will be taken to safeguard the principles which are espoused by the Organization and on which the survival of a large number of this community depends.\n",
      "\n"
     ]
    }
   ],
   "source": [
    "print(text)"
   ]
  },
  {
   "cell_type": "markdown",
   "id": "40252a24",
   "metadata": {},
   "source": [
    "##  Extractive methods"
   ]
  },
  {
   "cell_type": "markdown",
   "id": "9676948b",
   "metadata": {},
   "source": [
    "### Summarization based on tf-idf"
   ]
  },
  {
   "cell_type": "code",
   "execution_count": 4,
   "id": "69d3db1e",
   "metadata": {},
   "outputs": [],
   "source": [
    "from sklearn.feature_extraction.text import TfidfVectorizer\n",
    "from nltk import tokenize"
   ]
  },
  {
   "cell_type": "code",
   "execution_count": 5,
   "id": "437301a9",
   "metadata": {},
   "outputs": [],
   "source": [
    "sentences = tokenize.sent_tokenize(text)\n",
    "tfidfVectorizer = TfidfVectorizer()\n",
    "words_tfidf = tfidfVectorizer.fit_transform(sentences)"
   ]
  },
  {
   "cell_type": "code",
   "execution_count": 6,
   "id": "74ae32c1",
   "metadata": {},
   "outputs": [
    {
     "name": "stdout",
     "output_type": "stream",
     "text": [
      "121\n"
     ]
    }
   ],
   "source": [
    "print(len(sentences))"
   ]
  },
  {
   "cell_type": "code",
   "execution_count": 7,
   "id": "d6ee463c",
   "metadata": {},
   "outputs": [
    {
     "data": {
      "text/plain": [
       "<121x987 sparse matrix of type '<class 'numpy.float64'>'\n",
       "\twith 2542 stored elements in Compressed Sparse Row format>"
      ]
     },
     "execution_count": 7,
     "metadata": {},
     "output_type": "execute_result"
    }
   ],
   "source": [
    "words_tfidf"
   ]
  },
  {
   "cell_type": "code",
   "execution_count": 8,
   "id": "09973a70",
   "metadata": {},
   "outputs": [],
   "source": [
    "# Parameter to specify the required number of sentences in the summary\n",
    "num_summary_sentence = 10"
   ]
  },
  {
   "cell_type": "code",
   "execution_count": 9,
   "id": "7432bdef",
   "metadata": {},
   "outputs": [],
   "source": [
    "# Sort the sentences in descending order by the sum of the tf_idf values\n",
    "sent_sum = words_tfidf.sum(axis=1)\n",
    "important_sent = np.argsort(sent_sum,axis=0)[::-1]"
   ]
  },
  {
   "cell_type": "markdown",
   "id": "9889fc44",
   "metadata": {},
   "source": [
    "#### Print the 10 most important sentences in the order they appears in the text"
   ]
  },
  {
   "cell_type": "code",
   "execution_count": 12,
   "id": "64b897b2",
   "metadata": {},
   "outputs": [],
   "source": [
    "summary_idf=[]"
   ]
  },
  {
   "cell_type": "code",
   "execution_count": 14,
   "id": "b28fc7b6",
   "metadata": {},
   "outputs": [
    {
     "name": "stdout",
     "output_type": "stream",
     "text": [
      "My delegation associates itself with previous speakers in expressing its appreciation of the dedicated efforts of his predecessor, His Excellency Mr. Dante Caputo, for the exemplary manner in which he discharged his duties as President of the forty-third session of the General Assembly.\n",
      "Developments in southern Africa, and more particularly in Namibia with regard to the implementation of the United Nations independence plan, are welcome signals of hope, but amidst the hopes there are still dark reminders of the precariousness of global political reconciliation.\n",
      "The link between economic development and the environment has recently been recognized and it is encouraging to note the high profile given to environmental issues at the Paris summit meeting of the Group of Seven in July this year, in this regard, it is of particular interest that there is an increasing awareness and acceptance of the fact that certain technologies have a deleterious effect on the environment.\n",
      "The transition that many of the world's conflict, are making towards negotiations and understanding owes a great deal to improved relations between the super-Powers, which were themselves in part inspired by the historic arms reduction agreement of December 1987 for this reason -at Maldives has always supported all efforts with a view to general and complete disarmament, including the total elimination of chemical and bacteriological weapons and reduction in conventional armaments.\n",
      "It is regrettable that, on the whole, despite recent measures whereby the resources of the international finance institutions have been increased by the plans of some of the most developed countries to recycle part of their surplus into the developing countries, the internationally agreed target of 0.7 per cent of gross national product (GNP) as official development assistance has not been met.\n",
      "While serious efforts are being made at global, regional and national levels to protect the environment, my delegation is particularly concerned about the effects of the degradation of the environment, especially the depletion of the ozone layer and the consequent global warming and rise in sea level.\n",
      "Any degradation of the marine ecosystem, or any rise in the mean sea level, is a matter of grave concern to the Maldives, it will be recalled that two years ago we witnessed the fury of tidal eruptions, which caused extensive damage, with the assistance of friendly countries, we have embarked upon a programme of protecting the populated islands from possible natural calamities.\n",
      "The implications that efforts to strengthen their own security have for the prospects of economic development through the severe, if at all affordable, opportunity costs and the impact on social and political values, as well as the long-term implications for the sustenance of democracy in a militarised society, are negative.\n",
      "While we are grateful for the sense of duty that these friends have shown, it is with regret that we note that bilateral security arrangements in the international system have not yet evolved to a level of maturity whereby the interests of the weaker partner can be safeguarded.\n",
      "It is for this reason that we believe that multilateral frameworks are the most feasible nodes of a sound security mechanism for the weakest Members of the Organization, even if the actual support or assistance in a given situation is rendered at a regional or bilateral level.\n"
     ]
    }
   ],
   "source": [
    "for i in range(0,len(sentences)):\n",
    "    if i in important_sent[:num_summary_sentence]:\n",
    "        summary_idf.append(sentences[i])\n",
    "        print(sentences[i])"
   ]
  },
  {
   "cell_type": "code",
   "execution_count": 17,
   "id": "0c1fc913",
   "metadata": {},
   "outputs": [
    {
     "name": "stdout",
     "output_type": "stream",
     "text": [
      "My delegation associates itself with previous speakers in expressing its appreciation of the dedicated efforts of his predecessor, His Excellency Mr. Dante Caputo, for the exemplary manner in which he discharged his duties as President of the forty-third session of the General Assembly.Developments in southern Africa, and more particularly in Namibia with regard to the implementation of the United Nations independence plan, are welcome signals of hope, but amidst the hopes there are still dark reminders of the precariousness of global political reconciliation.The link between economic development and the environment has recently been recognized and it is encouraging to note the high profile given to environmental issues at the Paris summit meeting of the Group of Seven in July this year, in this regard, it is of particular interest that there is an increasing awareness and acceptance of the fact that certain technologies have a deleterious effect on the environment.The transition that many of the world's conflict, are making towards negotiations and understanding owes a great deal to improved relations between the super-Powers, which were themselves in part inspired by the historic arms reduction agreement of December 1987 for this reason -at Maldives has always supported all efforts with a view to general and complete disarmament, including the total elimination of chemical and bacteriological weapons and reduction in conventional armaments.It is regrettable that, on the whole, despite recent measures whereby the resources of the international finance institutions have been increased by the plans of some of the most developed countries to recycle part of their surplus into the developing countries, the internationally agreed target of 0.7 per cent of gross national product (GNP) as official development assistance has not been met.While serious efforts are being made at global, regional and national levels to protect the environment, my delegation is particularly concerned about the effects of the degradation of the environment, especially the depletion of the ozone layer and the consequent global warming and rise in sea level.Any degradation of the marine ecosystem, or any rise in the mean sea level, is a matter of grave concern to the Maldives, it will be recalled that two years ago we witnessed the fury of tidal eruptions, which caused extensive damage, with the assistance of friendly countries, we have embarked upon a programme of protecting the populated islands from possible natural calamities.The implications that efforts to strengthen their own security have for the prospects of economic development through the severe, if at all affordable, opportunity costs and the impact on social and political values, as well as the long-term implications for the sustenance of democracy in a militarised society, are negative.While we are grateful for the sense of duty that these friends have shown, it is with regret that we note that bilateral security arrangements in the international system have not yet evolved to a level of maturity whereby the interests of the weaker partner can be safeguarded.It is for this reason that we believe that multilateral frameworks are the most feasible nodes of a sound security mechanism for the weakest Members of the Organization, even if the actual support or assistance in a given situation is rendered at a regional or bilateral level.\n"
     ]
    }
   ],
   "source": [
    "print(''.join(summary_idf))"
   ]
  },
  {
   "cell_type": "code",
   "execution_count": 18,
   "id": "4dea3812",
   "metadata": {},
   "outputs": [],
   "source": [
    "summary_tf_idf = ' '.join(summary_idf)"
   ]
  },
  {
   "cell_type": "markdown",
   "id": "ed0c2d72",
   "metadata": {},
   "source": [
    "### LSA algorithm"
   ]
  },
  {
   "cell_type": "code",
   "execution_count": 19,
   "id": "cbb735ec",
   "metadata": {},
   "outputs": [],
   "source": [
    "num_summary_sentence = 10"
   ]
  },
  {
   "cell_type": "code",
   "execution_count": 20,
   "id": "43ea9bbd",
   "metadata": {},
   "outputs": [],
   "source": [
    "from sumy.parsers.plaintext import PlaintextParser"
   ]
  },
  {
   "cell_type": "code",
   "execution_count": 21,
   "id": "ef3f057c",
   "metadata": {},
   "outputs": [],
   "source": [
    "from sumy.nlp.tokenizers import Tokenizer\n",
    "from sumy.nlp.stemmers import Stemmer\n",
    "from sumy.utils import get_stop_words\n",
    "from sumy.summarizers.lsa import LsaSummarizer"
   ]
  },
  {
   "cell_type": "code",
   "execution_count": 22,
   "id": "2826d1d1",
   "metadata": {},
   "outputs": [],
   "source": [
    "LANGUAGE = \"english\"\n",
    "stemmer = Stemmer(LANGUAGE)"
   ]
  },
  {
   "cell_type": "code",
   "execution_count": 23,
   "id": "23be2db8",
   "metadata": {},
   "outputs": [],
   "source": [
    "parser =PlaintextParser.from_string(text,Tokenizer(LANGUAGE))\n",
    "summarizer = LsaSummarizer()\n",
    "summarizer.stop_words = get_stop_words(LANGUAGE)"
   ]
  },
  {
   "cell_type": "code",
   "execution_count": 27,
   "id": "894bdaec",
   "metadata": {},
   "outputs": [],
   "source": [
    "summary_lsa=[]"
   ]
  },
  {
   "cell_type": "code",
   "execution_count": 28,
   "id": "261f10d9",
   "metadata": {},
   "outputs": [
    {
     "name": "stdout",
     "output_type": "stream",
     "text": [
      "My delegation associates itself with previous speakers in expressing its appreciation of the dedicated efforts of his predecessor, His Excellency Mr. Dante Caputo, for the exemplary manner in which he discharged his duties as President of the forty-third session of the General Assembly.\n",
      "As in previous years, my delegation wishes to note its satisfaction with and gratitude for the assiduous and unrelenting efforts exerted by the Secretary-General of the United Nations in the cause of peace and international harmony.\n",
      "We pay a tribute to him for his untiring efforts to promote conditions conducive to the realization of the noble principles enshrined in the Charter of the United Nations, we praise and congratulate him on the successes the Organization has achieved in recent years.\n",
      "Developments in southern Africa, and more particularly in Namibia with regard to the implementation of the United Nations independence plan, are welcome signals of hope, but amidst the hopes there are still dark reminders of the precariousness of global political reconciliation.\n",
      "We fervently hope that, with the developments taking place in the region and elsewhere, the question of Lebanon will be solved in a manner which will restore its independence and national integrity, and alleviate the sufferings of its people.\n",
      "On a more hopeful note, we are pleased that, contrary to some early pessimistic assessments, the cease-fire agreed on between Iran and Iraq in the Gulf has held firm, indicating the sincerity of the parties to the conflict.\n",
      "We welcome the withdraw of the Vietnamese troops and we appreciate the diplomatic efforts to obtain a comprehensive and lasting solution to the dispute including the Jakarta informal meeting as well as the international conference in Paris.\n",
      "Any degradation of the marine ecosystem, or any rise in the mean sea level, is a matter of grave concern to the Maldives, it will be recalled that two years ago we witnessed the fury of tidal eruptions, which caused extensive damage, with the assistance of friendly countries, we have embarked upon a programme of protecting the populated islands from possible natural calamities.\n",
      "While we are grateful for the sense of duty that these friends have shown, it is with regret that we note that bilateral security arrangements in the international system have not yet evolved to a level of maturity whereby the interests of the weaker partner can be safeguarded.\n",
      "It is for this reason that we believe that multilateral frameworks are the most feasible nodes of a sound security mechanism for the weakest Members of the Organization, even if the actual support or assistance in a given situation is rendered at a regional or bilateral level.\n"
     ]
    }
   ],
   "source": [
    "for sentence in summarizer(parser.document, num_summary_sentence):\n",
    "    summary_lsa.append(str(sentence))\n",
    "    print(sentence)"
   ]
  },
  {
   "cell_type": "code",
   "execution_count": 31,
   "id": "04129af1",
   "metadata": {},
   "outputs": [
    {
     "name": "stdout",
     "output_type": "stream",
     "text": [
      "My delegation associates itself with previous speakers in expressing its appreciation of the dedicated efforts of his predecessor, His Excellency Mr. Dante Caputo, for the exemplary manner in which he discharged his duties as President of the forty-third session of the General Assembly.As in previous years, my delegation wishes to note its satisfaction with and gratitude for the assiduous and unrelenting efforts exerted by the Secretary-General of the United Nations in the cause of peace and international harmony.We pay a tribute to him for his untiring efforts to promote conditions conducive to the realization of the noble principles enshrined in the Charter of the United Nations, we praise and congratulate him on the successes the Organization has achieved in recent years.Developments in southern Africa, and more particularly in Namibia with regard to the implementation of the United Nations independence plan, are welcome signals of hope, but amidst the hopes there are still dark reminders of the precariousness of global political reconciliation.We fervently hope that, with the developments taking place in the region and elsewhere, the question of Lebanon will be solved in a manner which will restore its independence and national integrity, and alleviate the sufferings of its people.On a more hopeful note, we are pleased that, contrary to some early pessimistic assessments, the cease-fire agreed on between Iran and Iraq in the Gulf has held firm, indicating the sincerity of the parties to the conflict.We welcome the withdraw of the Vietnamese troops and we appreciate the diplomatic efforts to obtain a comprehensive and lasting solution to the dispute including the Jakarta informal meeting as well as the international conference in Paris.Any degradation of the marine ecosystem, or any rise in the mean sea level, is a matter of grave concern to the Maldives, it will be recalled that two years ago we witnessed the fury of tidal eruptions, which caused extensive damage, with the assistance of friendly countries, we have embarked upon a programme of protecting the populated islands from possible natural calamities.While we are grateful for the sense of duty that these friends have shown, it is with regret that we note that bilateral security arrangements in the international system have not yet evolved to a level of maturity whereby the interests of the weaker partner can be safeguarded.It is for this reason that we believe that multilateral frameworks are the most feasible nodes of a sound security mechanism for the weakest Members of the Organization, even if the actual support or assistance in a given situation is rendered at a regional or bilateral level.\n"
     ]
    }
   ],
   "source": [
    "summary_lsa = ''.join(summary_lsa)\n",
    "print(summary_lsa)"
   ]
  },
  {
   "cell_type": "markdown",
   "id": "f2eca6d2",
   "metadata": {},
   "source": [
    "### Summarizing a text using an indicator representation"
   ]
  },
  {
   "cell_type": "code",
   "execution_count": 32,
   "id": "731cf8ce",
   "metadata": {},
   "outputs": [],
   "source": [
    "from sumy.summarizers.text_rank import TextRankSummarizer"
   ]
  },
  {
   "cell_type": "code",
   "execution_count": 33,
   "id": "f71878ba",
   "metadata": {},
   "outputs": [
    {
     "name": "stdout",
     "output_type": "stream",
     "text": [
      "Developments in southern Africa, and more particularly in Namibia with regard to the implementation of the United Nations independence plan, are welcome signals of hope, but amidst the hopes there are still dark reminders of the precariousness of global political reconciliation.\n",
      "The link between economic development and the environment has recently been recognized and it is encouraging to note the high profile given to environmental issues at the Paris summit meeting of the Group of Seven in July this year, in this regard, it is of particular interest that there is an increasing awareness and acceptance of the fact that certain technologies have a deleterious effect on the environment.\n",
      "The international political climate and the security perceptions of states, as well as the environment, are actual and potential sacrifices to nuclear weapons.\n",
      "The transition that many of the world's conflict, are making towards negotiations and understanding owes a great deal to improved relations between the super-Powers, which were themselves in part inspired by the historic arms reduction agreement of December 1987 for this reason -at Maldives has always supported all efforts with a view to general and complete disarmament, including the total elimination of chemical and bacteriological weapons and reduction in conventional armaments.\n",
      "We also believe that nuclear-weapon-free zones and zones of peace could inspire trust, good Will and operation among states, transforming into secure communities contributing to global peace and security.\n",
      "We welcome the efforts undertaken by the members of the Arab league, both past and present, to resolve the situation in Lebanon and we request the international community to give their support to the people of Lebanon in their efforts to solve their problems.\n",
      "As I have already noted, the world economic situation continues to be bleak for the developing countries.\n",
      "It is regrettable that, on the whole, despite recent measures whereby the resources of the international finance institutions have been increased by the plans of some of the most developed countries to recycle part of their surplus into the developing countries, the internationally agreed target of 0.7 per cent of gross national product (GNP) as official development assistance has not been met.\n",
      "We welcome the proposed United Nations conference on environment and development and regard the event as a valuable opportunity which should be fully utilized to promote a comprehensive approach to the environmental problems related to the development activities of mankind.\n",
      "While serious efforts are being made at global, regional and national levels to protect the environment, my delegation is particularly concerned about the effects of the degradation of the environment, especially the depletion of the ozone layer and the consequent global warming and rise in sea level.\n"
     ]
    }
   ],
   "source": [
    "parser = PlaintextParser.from_string(text,Tokenizer(LANGUAGE))\n",
    "summarizer = TextRankSummarizer(stemmer)\n",
    "summarizer.stop_words = get_stop_words(LANGUAGE)\n",
    "\n",
    "for sentence in summarizer(parser.document, num_summary_sentence):\n",
    "    print(str(sentence))"
   ]
  },
  {
   "cell_type": "code",
   "execution_count": 34,
   "id": "38ec2667",
   "metadata": {},
   "outputs": [],
   "source": [
    "summary=summarizer(parser.document, num_summary_sentence)"
   ]
  },
  {
   "cell_type": "code",
   "execution_count": 35,
   "id": "491e7de1",
   "metadata": {},
   "outputs": [
    {
     "name": "stdout",
     "output_type": "stream",
     "text": [
      "(<Sentence: Developments in southern Africa, and more particularly in Namibia with regard to the implementation of the United Nations independence plan, are welcome signals of hope, but amidst the hopes there are still dark reminders of the precariousness of global political reconciliation.>, <Sentence: The link between economic development and the environment has recently been recognized and it is encouraging to note the high profile given to environmental issues at the Paris summit meeting of the Group of Seven in July this year, in this regard, it is of particular interest that there is an increasing awareness and acceptance of the fact that certain technologies have a deleterious effect on the environment.>, <Sentence: The international political climate and the security perceptions of states, as well as the environment, are actual and potential sacrifices to nuclear weapons.>, <Sentence: The transition that many of the world's conflict, are making towards negotiations and understanding owes a great deal to improved relations between the super-Powers, which were themselves in part inspired by the historic arms reduction agreement of December 1987 for this reason -at Maldives has always supported all efforts with a view to general and complete disarmament, including the total elimination of chemical and bacteriological weapons and reduction in conventional armaments.>, <Sentence: We also believe that nuclear-weapon-free zones and zones of peace could inspire trust, good Will and operation among states, transforming into secure communities contributing to global peace and security.>, <Sentence: We welcome the efforts undertaken by the members of the Arab league, both past and present, to resolve the situation in Lebanon and we request the international community to give their support to the people of Lebanon in their efforts to solve their problems.>, <Sentence: As I have already noted, the world economic situation continues to be bleak for the developing countries.>, <Sentence: It is regrettable that, on the whole, despite recent measures whereby the resources of the international finance institutions have been increased by the plans of some of the most developed countries to recycle part of their surplus into the developing countries, the internationally agreed target of 0.7 per cent of gross national product (GNP) as official development assistance has not been met.>, <Sentence: We welcome the proposed United Nations conference on environment and development and regard the event as a valuable opportunity which should be fully utilized to promote a comprehensive approach to the environmental problems related to the development activities of mankind.>, <Sentence: While serious efforts are being made at global, regional and national levels to protect the environment, my delegation is particularly concerned about the effects of the degradation of the environment, especially the depletion of the ozone layer and the consequent global warming and rise in sea level.>)\n"
     ]
    }
   ],
   "source": [
    "print(summary)"
   ]
  },
  {
   "cell_type": "markdown",
   "id": "f6ba81cd",
   "metadata": {},
   "source": [
    "## Measuring the Performance of Text summarization Methods"
   ]
  },
  {
   "cell_type": "markdown",
   "id": "4d579773",
   "metadata": {},
   "source": [
    "- Some common accuracy metrics\n",
    "\n",
    "- ROUGE score: Recall_Oriented Understudy for Gisting Evaluation \n",
    "    - A metric used to evaluate text summarization and translation models\n",
    "- Several variations on ROUGE scores:\n",
    "    - ROUGE1\n",
    "    - ROUGE2\n",
    "    - Rouge L\n",
    "    "
   ]
  },
  {
   "cell_type": "code",
   "execution_count": 37,
   "id": "8fc33f49",
   "metadata": {},
   "outputs": [],
   "source": [
    "from rouge_score import rouge_scorer\n",
    "scorer = rouge_scorer.RougeScorer(['rouge1','rouge2','rougeL'],use_stemmer=True)"
   ]
  },
  {
   "cell_type": "code",
   "execution_count": 38,
   "id": "24c2f3e6",
   "metadata": {},
   "outputs": [],
   "source": [
    "scores=scorer.score('The quick brown fox jumps over the lazy dog','The brown dog jumps on the log')"
   ]
  },
  {
   "cell_type": "code",
   "execution_count": 39,
   "id": "4cc423a6",
   "metadata": {},
   "outputs": [
    {
     "name": "stdout",
     "output_type": "stream",
     "text": [
      "rouge1: Score(precision=0.7142857142857143, recall=0.5555555555555556, fmeasure=0.6250000000000001)\n",
      "rouge2: Score(precision=0.0, recall=0.0, fmeasure=0.0)\n",
      "rougeL: Score(precision=0.5714285714285714, recall=0.4444444444444444, fmeasure=0.5)\n"
     ]
    }
   ],
   "source": [
    "for key in scores:\n",
    "    print(f'{key}: {scores[key]}')"
   ]
  },
  {
   "cell_type": "code",
   "execution_count": 40,
   "id": "4d703111",
   "metadata": {},
   "outputs": [],
   "source": [
    "candidates=['Summarization is cool',\"I love Machine Learning\",\"Good night\"]"
   ]
  },
  {
   "cell_type": "code",
   "execution_count": 41,
   "id": "77db29aa",
   "metadata": {},
   "outputs": [],
   "source": [
    "references = [[\"Summarization is beneficial and cool\",\"Summarization saves time\"],\n",
    "             ['People are getting used to Machine Learning','I think i love Machine Learning'],\n",
    "             [\"Good night everyone!\",\"Night!\"]]"
   ]
  },
  {
   "cell_type": "code",
   "execution_count": 42,
   "id": "ff15505d",
   "metadata": {},
   "outputs": [
    {
     "name": "stderr",
     "output_type": "stream",
     "text": [
      "None of PyTorch, TensorFlow >= 2.0, or Flax have been found. Models won't be available and only tokenizers, configuration and file/data utilities can be used.\n",
      "WARNING:evaluate.loading:Using the latest cached version of the module from C:\\Users\\ylepen\\.cache\\huggingface\\modules\\evaluate_modules\\metrics\\evaluate-metric--rouge\\b01e0accf3bd6dd24839b769a5fda24e14995071570870922c71970b3a6ed886 (last modified on Mon Mar 25 14:51:25 2024) since it couldn't be found locally at evaluate-metric--rouge, or remotely on the Hugging Face Hub.\n"
     ]
    },
    {
     "name": "stdout",
     "output_type": "stream",
     "text": [
      "{'rouge1': 0.7833333333333332, 'rouge2': 0.5833333333333334, 'rougeL': 0.7833333333333332, 'rougeLsum': 0.7833333333333332}\n"
     ]
    }
   ],
   "source": [
    "from evaluate import load\n",
    "\n",
    "import evaluate\n",
    "rouge = evaluate.load('rouge')\n",
    "\n",
    "results=rouge.compute(predictions=candidates,references=references)\n",
    "\n",
    "print(results)"
   ]
  },
  {
   "cell_type": "markdown",
   "id": "a54ccb0d",
   "metadata": {},
   "source": [
    "### Example with a real dataset"
   ]
  },
  {
   "cell_type": "code",
   "execution_count": 43,
   "id": "298d0ab4",
   "metadata": {},
   "outputs": [],
   "source": [
    "df=pd.read_csv('C:/users/ylepen/OneDrive - Université Paris-Dauphine/COURS Dauphine/NLP/Text Summarization/cnn_dailymail/train.csv')"
   ]
  },
  {
   "cell_type": "code",
   "execution_count": null,
   "id": "65fd3deb",
   "metadata": {},
   "outputs": [],
   "source": [
    "df.head()"
   ]
  },
  {
   "cell_type": "code",
   "execution_count": 44,
   "id": "84579b50",
   "metadata": {},
   "outputs": [
    {
     "data": {
      "text/plain": [
       "'English champion Manchester City posts loss of $158 million for 2011-12 season .\\nIts revenues rose to a record $374 million after winning title and playing in Champions League .\\nOwner Sheikh Mansour bin Zayed injected $273 million to keep the club debt free .\\nCity paid more than $325 million in player wages -- the first English club to reach that level .'"
      ]
     },
     "execution_count": 44,
     "metadata": {},
     "output_type": "execute_result"
    }
   ],
   "source": [
    "df.loc[200,'highlights']"
   ]
  },
  {
   "cell_type": "code",
   "execution_count": 45,
   "id": "1128d136",
   "metadata": {},
   "outputs": [
    {
     "data": {
      "text/plain": [
       "'(CNN) -- Big-spending English club Manchester City moved a step closer to meeting European football\\'s financial fairplay requirements on Friday despite posting a loss of almost $160 million for last season. City\\'s deficit of £97.9 million ($158 million) for 2011-12\\'s Premier League-winning campaign was just under half that of the £197.5 million ($318 million) for the previous period -- which was the biggest loss in soccer history. The latest figure represents the fourth highest deficit in the English game -- three of which belong to City since the arrival of its Abu Dhabi owners in 2008. It can be contrasted with the $37 million net profit made by rival Manchester United in 2011-12. United posted a reduced revenue of £320 million ($517 million) for that period, while City closed the gap with a club-record turnover of £231.1 million ($374 million). Both are substantially behind leading Spanish clubs Real Madrid and Barcelona. Chelsea boosted by first profit in Abramovich era . It was the first time that City had breached the £200 million ($323 million) mark, and reflects the club\\'s attempts to become more self-sufficient and avoid possible punishment from UEFA for failing to meet FFP targets. However, owner Sheikh Mansour bin Zayed still injected £169 million ($273 million) in order to keep the club debt free. \"It is important to recognise the personal and ongoing influence of Sheikh Mansour bin Zayed on the rapid transformation that is taking place,\" said chairman Khaldoon al-Mubarak. \"The hard work of everyone involved at Manchester City over the last four years has begun to create an obvious momentum.\" Last season City won the English title for the first time since 1969, and made a debut appearance in the UEFA Champions League. Manchester United seeks to cash in as sponsor DHL is sent packing . The club\\'s revenue would have been higher if not for a group-stage exit from Europe\\'s top club competition -- which has been repeated already this season -- but new chief executive Ferran Soriano was satisfied with the results. He joined City in September, having previously helped transform the financial fortunes of Barcelona between 2003-08. \"What I have found is a club on the verge of a historic transformation, reinforced by a genuine commitment to doing things well. It is a club with a rich history and the potential for an even brighter future,\" he said. With the FFP rules coming into play from next season, City officials are under pressure to conform -- or face the possible expulsion from European competition and a withholding of prize money. A 10-year stadium rights deal with Etihad Airlines -- owned by Abu Dhabi\\'s royal family -- which also includes the club\\'s under-construction campus has considerably boosted City\\'s balance sheet. It is building an academy to try to avoid paying over the odds for star players in the future -- the £201.8 million ($326 million) wage bill for 2011-12 made City the first English club to break £200 million in salaries, according to the Sporting Intelligence website. That equates to more than $890,000 a day. \"The City Football Academy will strengthen the club\\'s youth development and training capabilities, enable more players to move through the Academy and Elite Development Squads into the first team in the future, while bringing all of the club\\'s operations together on a single site within the Etihad Campus,\" Khaldoon said. \"The responsibility lies with all of us to continue the hard work that will ensure that this is only the beginning of a long and successful era for Manchester City.\"'"
      ]
     },
     "execution_count": 45,
     "metadata": {},
     "output_type": "execute_result"
    }
   ],
   "source": [
    "df.loc[200,'article']"
   ]
  },
  {
   "cell_type": "code",
   "execution_count": 46,
   "id": "f39b0f6b",
   "metadata": {},
   "outputs": [],
   "source": [
    "text=df.loc[200,'article']"
   ]
  },
  {
   "cell_type": "code",
   "execution_count": 47,
   "id": "57cd8a46",
   "metadata": {},
   "outputs": [],
   "source": [
    "from sklearn.feature_extraction.text import TfidfVectorizer\n",
    "from nltk import tokenize"
   ]
  },
  {
   "cell_type": "code",
   "execution_count": 48,
   "id": "9b0c3fa1",
   "metadata": {},
   "outputs": [],
   "source": [
    "sentences = tokenize.sent_tokenize(text)\n",
    "tfidfVectorizer = TfidfVectorizer()\n",
    "words_tfidf = tfidfVectorizer.fit_transform(sentences)"
   ]
  },
  {
   "cell_type": "code",
   "execution_count": 49,
   "id": "e90ad17e",
   "metadata": {},
   "outputs": [],
   "source": [
    "num_summary_sentence = 4"
   ]
  },
  {
   "cell_type": "code",
   "execution_count": 50,
   "id": "6cf3f22a",
   "metadata": {},
   "outputs": [],
   "source": [
    "from sumy.summarizers.text_rank import TextRankSummarizer"
   ]
  },
  {
   "cell_type": "code",
   "execution_count": 51,
   "id": "89105d13",
   "metadata": {},
   "outputs": [
    {
     "name": "stdout",
     "output_type": "stream",
     "text": [
      "(CNN) -- Big-spending English club Manchester City moved a step closer to meeting European football's financial fairplay requirements on Friday despite posting a loss of almost $160 million for last season.\n",
      "City's deficit of £97.9 million ($158 million) for 2011-12's Premier League-winning campaign was just under half that of the £197.5 million ($318 million) for the previous period -- which was the biggest loss in soccer history.\n",
      "United posted a reduced revenue of £320 million ($517 million) for that period, while City closed the gap with a club-record turnover of £231.1 million ($374 million).\n",
      "It is building an academy to try to avoid paying over the odds for star players in the future -- the £201.8 million ($326 million) wage bill for 2011-12 made City the first English club to break £200 million in salaries, according to the Sporting Intelligence website.\n"
     ]
    }
   ],
   "source": [
    "parser = PlaintextParser.from_string(df.loc[200,'article'],Tokenizer(LANGUAGE))\n",
    "summarizer = TextRankSummarizer(stemmer)\n",
    "summarizer.stop_words = get_stop_words(LANGUAGE)\n",
    "\n",
    "for sentence in summarizer(parser.document, num_summary_sentence):\n",
    "    print(str(sentence))"
   ]
  },
  {
   "cell_type": "code",
   "execution_count": 52,
   "id": "72267b07",
   "metadata": {},
   "outputs": [],
   "source": [
    "summary_exp=[]\n",
    "\n",
    "for sentence in summarizer(parser.document, num_summary_sentence):\n",
    "    summary_exp.append(str(sentence))"
   ]
  },
  {
   "cell_type": "code",
   "execution_count": 39,
   "id": "8d7fcfcf",
   "metadata": {},
   "outputs": [],
   "source": [
    "from rouge_score import rouge_scorer\n",
    "scorer = rouge_scorer.RougeScorer(['rouge1','rouge2','rougeL'],use_stemmer=True)"
   ]
  },
  {
   "cell_type": "code",
   "execution_count": 53,
   "id": "d4061c86",
   "metadata": {},
   "outputs": [],
   "source": [
    "summary_exp = ''.join(summary_exp)"
   ]
  },
  {
   "cell_type": "code",
   "execution_count": 54,
   "id": "05fb4169",
   "metadata": {},
   "outputs": [],
   "source": [
    "scores=scorer.score(df.loc[200,'highlights'],summary_exp)"
   ]
  },
  {
   "cell_type": "code",
   "execution_count": 56,
   "id": "073b7378",
   "metadata": {},
   "outputs": [
    {
     "name": "stdout",
     "output_type": "stream",
     "text": [
      "{'rouge1': Score(precision=0.24, recall=0.6, fmeasure=0.34285714285714286), 'rouge2': Score(precision=0.08053691275167785, recall=0.2033898305084746, fmeasure=0.11538461538461539), 'rougeL': Score(precision=0.16666666666666666, recall=0.4166666666666667, fmeasure=0.23809523809523808)}\n"
     ]
    }
   ],
   "source": [
    "print(scores)"
   ]
  },
  {
   "cell_type": "code",
   "execution_count": null,
   "id": "57860179",
   "metadata": {},
   "outputs": [],
   "source": []
  }
 ],
 "metadata": {
  "kernelspec": {
   "display_name": "Python 3 (ipykernel)",
   "language": "python",
   "name": "python3"
  },
  "language_info": {
   "codemirror_mode": {
    "name": "ipython",
    "version": 3
   },
   "file_extension": ".py",
   "mimetype": "text/x-python",
   "name": "python",
   "nbconvert_exporter": "python",
   "pygments_lexer": "ipython3",
   "version": "3.11.5"
  }
 },
 "nbformat": 4,
 "nbformat_minor": 5
}
